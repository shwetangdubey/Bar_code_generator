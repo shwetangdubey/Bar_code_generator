{
 "cells": [
  {
   "cell_type": "code",
   "execution_count": 1,
   "id": "9e23e094",
   "metadata": {},
   "outputs": [
    {
     "name": "stdout",
     "output_type": "stream",
     "text": [
      "Defaulting to user installation because normal site-packages is not writeable\n",
      "Collecting pyzbar\n",
      "  Downloading pyzbar-0.1.9-py2.py3-none-win_amd64.whl (817 kB)\n",
      "     ------------------------------------ 817.4/817.4 kB 587.0 kB/s eta 0:00:00\n",
      "Requirement already satisfied: opencv-python in c:\\users\\shwet\\appdata\\roaming\\python\\python39\\site-packages (3.4.13.47)\n",
      "Requirement already satisfied: numpy>=1.19.3 in c:\\programdata\\anaconda3\\lib\\site-packages (from opencv-python) (1.21.5)\n",
      "Installing collected packages: pyzbar\n",
      "Successfully installed pyzbar-0.1.9\n",
      "Note: you may need to restart the kernel to use updated packages.\n"
     ]
    },
    {
     "name": "stderr",
     "output_type": "stream",
     "text": [
      "  WARNING: The script read_zbar.exe is installed in 'C:\\Users\\shwet\\AppData\\Roaming\\Python\\Python39\\Scripts' which is not on PATH.\n",
      "  Consider adding this directory to PATH or, if you prefer to suppress this warning, use --no-warn-script-location.\n"
     ]
    }
   ],
   "source": [
    "pip install pyzbar opencv-python"
   ]
  },
  {
   "cell_type": "code",
   "execution_count": 16,
   "id": "c23d2a88",
   "metadata": {},
   "outputs": [],
   "source": [
    "from pyzbar import pyzbar"
   ]
  },
  {
   "cell_type": "code",
   "execution_count": 17,
   "id": "db8d402e",
   "metadata": {},
   "outputs": [],
   "source": [
    "import cv2"
   ]
  },
  {
   "cell_type": "code",
   "execution_count": 18,
   "id": "6ecf9afb",
   "metadata": {},
   "outputs": [],
   "source": [
    "def decode(image):\n",
    "    decoded_objects = pyzbar.decode(image)\n",
    "    for obj in decoded_objects:\n",
    "        #draw the barcode\n",
    "        print(\"detected barcode:\", obj)\n",
    "        image = draw_barcode(obj, image)\n",
    "        print(\"type:\", obj.type)\n",
    "        print(\"Data: \", obj.data)\n",
    "        print()\n",
    "    return image\n"
   ]
  },
  {
   "cell_type": "markdown",
   "id": "60d358c0",
   "metadata": {},
   "source": [
    "So pyzbar.decode() function returns the data containing the barcode, the type of barcode, as well as the location points as a rectangle and a polygon."
   ]
  },
  {
   "cell_type": "code",
   "execution_count": 19,
   "id": "69a0ef34",
   "metadata": {},
   "outputs": [],
   "source": [
    "def draw_barcode(decoded, image):\n",
    "    #n_points = len(decoded.polygon)\n",
    "    #for i in range(n_points):\n",
    "    #      image = cv2.line(image, decoded.polygon[i], decoded.polygon[i+1 % n_points], color = (0,255,0), thichkness = 5)\n",
    "    #uncommnet if you want to draw a polygon not a rectangle\n",
    "    image = cv2.rectangle(image, (decoded.rect.left, decoded.rect.top), (decoded.rect.left + decoded.rect.width, decoded.rect.top + decoded.rect.height), color = (0,255,0), thickness = 5)\n",
    "    return image"
   ]
  },
  {
   "cell_type": "code",
   "execution_count": 29,
   "id": "6407e6ac",
   "metadata": {},
   "outputs": [
    {
     "name": "stdout",
     "output_type": "stream",
     "text": [
      "C:\\Users\\shwet\\Downloads\n"
     ]
    }
   ],
   "source": [
    "cd Downloads/"
   ]
  },
  {
   "cell_type": "code",
   "execution_count": 33,
   "id": "0417afc5",
   "metadata": {},
   "outputs": [
    {
     "name": "stdout",
     "output_type": "stream",
     "text": [
      "detected barcode: Decoded(data=b'0123456789012', type='EAN13', rect=Rect(left=93, top=79, width=359, height=178), polygon=[Point(x=93, y=79), Point(x=93, y=257), Point(x=267, y=257), Point(x=452, y=256), Point(x=452, y=80)], quality=357, orientation='UP')\n",
      "type: EAN13\n",
      "Data:  b'0123456789012'\n",
      "\n"
     ]
    }
   ],
   "source": [
    "\n",
    "if __name__ == \"__main__\":\n",
    "    #!cd Downloads/\n",
    "    from glob import glob\n",
    "    \n",
    "    barcodes = glob(\"abc*.jpg\")\n",
    "    #print(barcodes)\n",
    "    for barcode_file in barcodes:\n",
    "        img = cv2.imread(barcode_file)\n",
    "        #print(img)\n",
    "        #decode detected barcodes & get the image that is drawn\n",
    "        img = decode(img)\n",
    "        #show the image\n",
    "        cv2.imshow(\"img\", img)\n",
    "        cv2.waitKey(0)\n",
    "        #main()\n"
   ]
  },
  {
   "cell_type": "code",
   "execution_count": null,
   "id": "bd16cf76",
   "metadata": {},
   "outputs": [],
   "source": []
  }
 ],
 "metadata": {
  "kernelspec": {
   "display_name": "Python 3 (ipykernel)",
   "language": "python",
   "name": "python3"
  },
  "language_info": {
   "codemirror_mode": {
    "name": "ipython",
    "version": 3
   },
   "file_extension": ".py",
   "mimetype": "text/x-python",
   "name": "python",
   "nbconvert_exporter": "python",
   "pygments_lexer": "ipython3",
   "version": "3.9.13"
  }
 },
 "nbformat": 4,
 "nbformat_minor": 5
}
